{
  "nbformat": 4,
  "nbformat_minor": 0,
  "metadata": {
    "colab": {
      "name": "ANN - Cellphone price range.ipynb",
      "provenance": [],
      "collapsed_sections": [],
      "toc_visible": true,
      "include_colab_link": true
    },
    "kernelspec": {
      "name": "python3",
      "display_name": "Python 3"
    }
  },
  "cells": [
    {
      "cell_type": "markdown",
      "metadata": {
        "id": "view-in-github",
        "colab_type": "text"
      },
      "source": [
        "<a href=\"https://colab.research.google.com/github/ppajewski/ANN-Cellphone-price-prediction/blob/master/ANN_Cellphone_price_range.ipynb\" target=\"_parent\"><img src=\"https://colab.research.google.com/assets/colab-badge.svg\" alt=\"Open In Colab\"/></a>"
      ]
    },
    {
      "cell_type": "markdown",
      "metadata": {
        "id": "lP6JLo1tGNBg",
        "colab_type": "text"
      },
      "source": [
        "# Artificial Neural Network"
      ]
    },
    {
      "cell_type": "markdown",
      "metadata": {
        "id": "gWZyYmS_UE_L",
        "colab_type": "text"
      },
      "source": [
        "### Importing the libraries"
      ]
    },
    {
      "cell_type": "code",
      "metadata": {
        "id": "MxkJoQBkUIHC",
        "colab_type": "code",
        "colab": {}
      },
      "source": [
        "import numpy as np\n",
        "import pandas as pd\n",
        "import tensorflow as tf"
      ],
      "execution_count": 441,
      "outputs": []
    },
    {
      "cell_type": "markdown",
      "metadata": {
        "id": "1E0Q3aoKUCRX",
        "colab_type": "text"
      },
      "source": [
        "## Part 1 - Data Preprocessing"
      ]
    },
    {
      "cell_type": "markdown",
      "metadata": {
        "id": "cKWAkFVGUU0Z",
        "colab_type": "text"
      },
      "source": [
        "### Importing the dataset"
      ]
    },
    {
      "cell_type": "code",
      "metadata": {
        "id": "MXUkhkMfU4wq",
        "colab_type": "code",
        "colab": {}
      },
      "source": [
        "dataset = pd.read_csv('train.csv')\n",
        "X = dataset.iloc[:, :-1].values\n",
        "y = dataset.iloc[:, -1].values"
      ],
      "execution_count": 442,
      "outputs": []
    },
    {
      "cell_type": "markdown",
      "metadata": {
        "id": "2nq1QT6Zvtlg",
        "colab_type": "text"
      },
      "source": [
        "###Checking for missing values"
      ]
    },
    {
      "cell_type": "code",
      "metadata": {
        "id": "025PYyktvwqu",
        "colab_type": "code",
        "colab": {
          "base_uri": "https://localhost:8080/",
          "height": 385
        },
        "outputId": "9b32248c-ceaa-48d8-8153-e224065e75de"
      },
      "source": [
        "print(dataset.isna().sum())"
      ],
      "execution_count": 443,
      "outputs": [
        {
          "output_type": "stream",
          "text": [
            "battery_power    0\n",
            "blue             0\n",
            "clock_speed      0\n",
            "dual_sim         0\n",
            "fc               0\n",
            "four_g           0\n",
            "int_memory       0\n",
            "m_dep            0\n",
            "mobile_wt        0\n",
            "n_cores          0\n",
            "pc               0\n",
            "px_height        0\n",
            "px_width         0\n",
            "ram              0\n",
            "sc_h             0\n",
            "sc_w             0\n",
            "talk_time        0\n",
            "three_g          0\n",
            "touch_screen     0\n",
            "wifi             0\n",
            "price_range      0\n",
            "dtype: int64\n"
          ],
          "name": "stdout"
        }
      ]
    },
    {
      "cell_type": "markdown",
      "metadata": {
        "id": "KlnG6V9cLinj",
        "colab_type": "text"
      },
      "source": [
        "### Checking number of distinct categories"
      ]
    },
    {
      "cell_type": "code",
      "metadata": {
        "id": "38vKGE6Nb2RR",
        "colab_type": "code",
        "colab": {
          "base_uri": "https://localhost:8080/",
          "height": 33
        },
        "outputId": "f6bd6ed5-d188-411f-a66c-32d2c324acdd"
      },
      "source": [
        "print(np.unique(y).shape[0])"
      ],
      "execution_count": 445,
      "outputs": [
        {
          "output_type": "stream",
          "text": [
            "4\n"
          ],
          "name": "stdout"
        }
      ]
    },
    {
      "cell_type": "markdown",
      "metadata": {
        "id": "N6bQ0UgSU-NJ",
        "colab_type": "text"
      },
      "source": [
        "### Encoding the categorical data"
      ]
    },
    {
      "cell_type": "code",
      "metadata": {
        "id": "KniypijWRiq-",
        "colab_type": "code",
        "colab": {}
      },
      "source": [
        "from keras.utils import to_categorical\n",
        "y = to_categorical(y)"
      ],
      "execution_count": 429,
      "outputs": []
    },
    {
      "cell_type": "markdown",
      "metadata": {
        "id": "vHol938cW8zd",
        "colab_type": "text"
      },
      "source": [
        "### Splitting the dataset into the Training set and Test set"
      ]
    },
    {
      "cell_type": "code",
      "metadata": {
        "id": "Z-TDt0Y_XEfc",
        "colab_type": "code",
        "colab": {}
      },
      "source": [
        "from sklearn.model_selection import train_test_split\n",
        "X_train, X_test, y_train, y_test = train_test_split(X, y, test_size = 0.1, random_state = 0)"
      ],
      "execution_count": 431,
      "outputs": []
    },
    {
      "cell_type": "markdown",
      "metadata": {
        "id": "RE_FcHyfV3TQ",
        "colab_type": "text"
      },
      "source": [
        "### Feature Scaling"
      ]
    },
    {
      "cell_type": "code",
      "metadata": {
        "id": "ViCrE00rV8Sk",
        "colab_type": "code",
        "colab": {}
      },
      "source": [
        "from sklearn.preprocessing import StandardScaler\n",
        "sc = StandardScaler()\n",
        "sc.fit(X_train)\n",
        "X_train = sc.transform(X_train)\n",
        "X_test = sc.transform(X_test)"
      ],
      "execution_count": 430,
      "outputs": []
    },
    {
      "cell_type": "markdown",
      "metadata": {
        "id": "-zfEzkRVXIwF",
        "colab_type": "text"
      },
      "source": [
        "## Part 2 - Building the ANN"
      ]
    },
    {
      "cell_type": "markdown",
      "metadata": {
        "id": "KvdeScabXtlB",
        "colab_type": "text"
      },
      "source": [
        "### Initializing the ANN"
      ]
    },
    {
      "cell_type": "code",
      "metadata": {
        "id": "3dtrScHxXQox",
        "colab_type": "code",
        "colab": {}
      },
      "source": [
        "ann = tf.keras.models.Sequential()"
      ],
      "execution_count": 433,
      "outputs": []
    },
    {
      "cell_type": "markdown",
      "metadata": {
        "id": "rP6urV6SX7kS",
        "colab_type": "text"
      },
      "source": [
        "### Adding the input layer and the first hidden layer"
      ]
    },
    {
      "cell_type": "code",
      "metadata": {
        "id": "bppGycBXYCQr",
        "colab_type": "code",
        "colab": {}
      },
      "source": [
        "from keras.layers import Dropout\n",
        "ann.add(Dropout(0.1, input_shape=(20,)))\n",
        "ann.add(tf.keras.layers.Dense(units=16, activation='relu'))"
      ],
      "execution_count": 434,
      "outputs": []
    },
    {
      "cell_type": "markdown",
      "metadata": {
        "id": "BELWAc_8YJze",
        "colab_type": "text"
      },
      "source": [
        "### Adding the second hidden layer"
      ]
    },
    {
      "cell_type": "code",
      "metadata": {
        "id": "JneR0u0sYRTd",
        "colab_type": "code",
        "colab": {}
      },
      "source": [
        "ann.add(tf.keras.layers.Dense(units=12, activation='relu'))\n",
        "ann.add(tf.keras.layers.Dense(units=40, activation='relu'))"
      ],
      "execution_count": 435,
      "outputs": []
    },
    {
      "cell_type": "markdown",
      "metadata": {
        "id": "OyNEe6RXYcU4",
        "colab_type": "text"
      },
      "source": [
        "### Adding the output layer"
      ]
    },
    {
      "cell_type": "code",
      "metadata": {
        "id": "Cn3x41RBYfvY",
        "colab_type": "code",
        "colab": {}
      },
      "source": [
        "ann.add(tf.keras.layers.Dense(units=4, activation='softmax'))"
      ],
      "execution_count": 436,
      "outputs": []
    },
    {
      "cell_type": "markdown",
      "metadata": {
        "id": "JT4u2S1_Y4WG",
        "colab_type": "text"
      },
      "source": [
        "## Part 3 - Training the ANN"
      ]
    },
    {
      "cell_type": "markdown",
      "metadata": {
        "id": "8GWlJChhY_ZI",
        "colab_type": "text"
      },
      "source": [
        "### Compiling the ANN"
      ]
    },
    {
      "cell_type": "code",
      "metadata": {
        "id": "fG3RrwDXZEaS",
        "colab_type": "code",
        "colab": {}
      },
      "source": [
        "ann.compile(optimizer = 'adam', loss = 'categorical_crossentropy', metrics = ['categorical_accuracy'])"
      ],
      "execution_count": 437,
      "outputs": []
    },
    {
      "cell_type": "markdown",
      "metadata": {
        "id": "0QR_G5u7ZLSM",
        "colab_type": "text"
      },
      "source": [
        "### Training the ANN on the Training set"
      ]
    },
    {
      "cell_type": "markdown",
      "metadata": {
        "id": "VoeK3Xzv2AHS",
        "colab_type": "text"
      },
      "source": [
        "Batch learning is alwys more efficent - it takes batches of predictions and compares them to batches of results rather than comparing one by one. 32 is recomended, default value (we can fine-tune it to the problem as well). "
      ]
    },
    {
      "cell_type": "code",
      "metadata": {
        "id": "nHZ-LKv_ZRb3",
        "colab_type": "code",
        "colab": {
          "base_uri": "https://localhost:8080/",
          "height": 1000
        },
        "outputId": "a52ad90d-fca4-4d5d-9ad2-ab5e224eca80"
      },
      "source": [
        "ann.fit(X_train, y_train, batch_size = 32, epochs = 200)"
      ],
      "execution_count": 438,
      "outputs": [
        {
          "output_type": "stream",
          "text": [
            "Epoch 1/200\n",
            "57/57 [==============================] - 0s 1ms/step - loss: 1.3769 - categorical_accuracy: 0.2894\n",
            "Epoch 2/200\n",
            "57/57 [==============================] - 0s 1ms/step - loss: 1.2435 - categorical_accuracy: 0.4433\n",
            "Epoch 3/200\n",
            "57/57 [==============================] - 0s 1ms/step - loss: 1.0418 - categorical_accuracy: 0.5211\n",
            "Epoch 4/200\n",
            "57/57 [==============================] - 0s 1ms/step - loss: 0.8774 - categorical_accuracy: 0.6122\n",
            "Epoch 5/200\n",
            "57/57 [==============================] - 0s 1ms/step - loss: 0.7649 - categorical_accuracy: 0.6678\n",
            "Epoch 6/200\n",
            "57/57 [==============================] - 0s 1ms/step - loss: 0.6668 - categorical_accuracy: 0.7361\n",
            "Epoch 7/200\n",
            "57/57 [==============================] - 0s 1ms/step - loss: 0.6649 - categorical_accuracy: 0.7317\n",
            "Epoch 8/200\n",
            "57/57 [==============================] - 0s 1ms/step - loss: 0.5899 - categorical_accuracy: 0.7750\n",
            "Epoch 9/200\n",
            "57/57 [==============================] - 0s 1ms/step - loss: 0.5891 - categorical_accuracy: 0.7806\n",
            "Epoch 10/200\n",
            "57/57 [==============================] - 0s 1ms/step - loss: 0.5632 - categorical_accuracy: 0.7906\n",
            "Epoch 11/200\n",
            "57/57 [==============================] - 0s 1ms/step - loss: 0.5668 - categorical_accuracy: 0.7911\n",
            "Epoch 12/200\n",
            "57/57 [==============================] - 0s 1ms/step - loss: 0.5622 - categorical_accuracy: 0.8028\n",
            "Epoch 13/200\n",
            "57/57 [==============================] - 0s 1ms/step - loss: 0.5168 - categorical_accuracy: 0.8111\n",
            "Epoch 14/200\n",
            "57/57 [==============================] - 0s 1ms/step - loss: 0.5278 - categorical_accuracy: 0.8150\n",
            "Epoch 15/200\n",
            "57/57 [==============================] - 0s 1ms/step - loss: 0.5166 - categorical_accuracy: 0.8144\n",
            "Epoch 16/200\n",
            "57/57 [==============================] - 0s 1ms/step - loss: 0.5037 - categorical_accuracy: 0.8150\n",
            "Epoch 17/200\n",
            "57/57 [==============================] - 0s 1ms/step - loss: 0.5150 - categorical_accuracy: 0.8172\n",
            "Epoch 18/200\n",
            "57/57 [==============================] - 0s 1ms/step - loss: 0.5008 - categorical_accuracy: 0.8267\n",
            "Epoch 19/200\n",
            "57/57 [==============================] - 0s 1ms/step - loss: 0.4906 - categorical_accuracy: 0.8261\n",
            "Epoch 20/200\n",
            "57/57 [==============================] - 0s 1ms/step - loss: 0.4996 - categorical_accuracy: 0.8328\n",
            "Epoch 21/200\n",
            "57/57 [==============================] - 0s 1ms/step - loss: 0.4728 - categorical_accuracy: 0.8372\n",
            "Epoch 22/200\n",
            "57/57 [==============================] - 0s 1ms/step - loss: 0.4840 - categorical_accuracy: 0.8383\n",
            "Epoch 23/200\n",
            "57/57 [==============================] - 0s 1ms/step - loss: 0.4687 - categorical_accuracy: 0.8278\n",
            "Epoch 24/200\n",
            "57/57 [==============================] - 0s 1ms/step - loss: 0.4655 - categorical_accuracy: 0.8428\n",
            "Epoch 25/200\n",
            "57/57 [==============================] - 0s 1ms/step - loss: 0.4459 - categorical_accuracy: 0.8472\n",
            "Epoch 26/200\n",
            "57/57 [==============================] - 0s 1ms/step - loss: 0.4593 - categorical_accuracy: 0.8367\n",
            "Epoch 27/200\n",
            "57/57 [==============================] - 0s 1ms/step - loss: 0.4324 - categorical_accuracy: 0.8522\n",
            "Epoch 28/200\n",
            "57/57 [==============================] - 0s 1ms/step - loss: 0.4505 - categorical_accuracy: 0.8422\n",
            "Epoch 29/200\n",
            "57/57 [==============================] - 0s 1ms/step - loss: 0.4375 - categorical_accuracy: 0.8528\n",
            "Epoch 30/200\n",
            "57/57 [==============================] - 0s 1ms/step - loss: 0.4351 - categorical_accuracy: 0.8539\n",
            "Epoch 31/200\n",
            "57/57 [==============================] - 0s 1ms/step - loss: 0.4448 - categorical_accuracy: 0.8483\n",
            "Epoch 32/200\n",
            "57/57 [==============================] - 0s 1ms/step - loss: 0.4279 - categorical_accuracy: 0.8456\n",
            "Epoch 33/200\n",
            "57/57 [==============================] - 0s 1ms/step - loss: 0.4459 - categorical_accuracy: 0.8489\n",
            "Epoch 34/200\n",
            "57/57 [==============================] - 0s 1ms/step - loss: 0.4476 - categorical_accuracy: 0.8417\n",
            "Epoch 35/200\n",
            "57/57 [==============================] - 0s 1ms/step - loss: 0.4151 - categorical_accuracy: 0.8622\n",
            "Epoch 36/200\n",
            "57/57 [==============================] - 0s 1ms/step - loss: 0.4170 - categorical_accuracy: 0.8578\n",
            "Epoch 37/200\n",
            "57/57 [==============================] - 0s 1ms/step - loss: 0.4322 - categorical_accuracy: 0.8472\n",
            "Epoch 38/200\n",
            "57/57 [==============================] - 0s 1ms/step - loss: 0.4471 - categorical_accuracy: 0.8544\n",
            "Epoch 39/200\n",
            "57/57 [==============================] - 0s 1ms/step - loss: 0.4132 - categorical_accuracy: 0.8589\n",
            "Epoch 40/200\n",
            "57/57 [==============================] - 0s 1ms/step - loss: 0.4162 - categorical_accuracy: 0.8506\n",
            "Epoch 41/200\n",
            "57/57 [==============================] - 0s 1ms/step - loss: 0.4320 - categorical_accuracy: 0.8622\n",
            "Epoch 42/200\n",
            "57/57 [==============================] - 0s 1ms/step - loss: 0.3975 - categorical_accuracy: 0.8661\n",
            "Epoch 43/200\n",
            "57/57 [==============================] - 0s 1ms/step - loss: 0.4275 - categorical_accuracy: 0.8583\n",
            "Epoch 44/200\n",
            "57/57 [==============================] - 0s 1ms/step - loss: 0.4146 - categorical_accuracy: 0.8583\n",
            "Epoch 45/200\n",
            "57/57 [==============================] - 0s 1ms/step - loss: 0.4276 - categorical_accuracy: 0.8594\n",
            "Epoch 46/200\n",
            "57/57 [==============================] - 0s 1ms/step - loss: 0.4264 - categorical_accuracy: 0.8522\n",
            "Epoch 47/200\n",
            "57/57 [==============================] - 0s 1ms/step - loss: 0.4174 - categorical_accuracy: 0.8572\n",
            "Epoch 48/200\n",
            "57/57 [==============================] - 0s 1ms/step - loss: 0.4231 - categorical_accuracy: 0.8622\n",
            "Epoch 49/200\n",
            "57/57 [==============================] - 0s 1ms/step - loss: 0.3999 - categorical_accuracy: 0.8667\n",
            "Epoch 50/200\n",
            "57/57 [==============================] - 0s 1ms/step - loss: 0.4294 - categorical_accuracy: 0.8533\n",
            "Epoch 51/200\n",
            "57/57 [==============================] - 0s 1ms/step - loss: 0.4113 - categorical_accuracy: 0.8550\n",
            "Epoch 52/200\n",
            "57/57 [==============================] - 0s 1ms/step - loss: 0.3852 - categorical_accuracy: 0.8700\n",
            "Epoch 53/200\n",
            "57/57 [==============================] - 0s 1ms/step - loss: 0.3949 - categorical_accuracy: 0.8661\n",
            "Epoch 54/200\n",
            "57/57 [==============================] - 0s 1ms/step - loss: 0.4069 - categorical_accuracy: 0.8661\n",
            "Epoch 55/200\n",
            "57/57 [==============================] - 0s 1ms/step - loss: 0.4119 - categorical_accuracy: 0.8622\n",
            "Epoch 56/200\n",
            "57/57 [==============================] - 0s 1ms/step - loss: 0.3853 - categorical_accuracy: 0.8656\n",
            "Epoch 57/200\n",
            "57/57 [==============================] - 0s 1ms/step - loss: 0.4044 - categorical_accuracy: 0.8617\n",
            "Epoch 58/200\n",
            "57/57 [==============================] - 0s 1ms/step - loss: 0.4289 - categorical_accuracy: 0.8650\n",
            "Epoch 59/200\n",
            "57/57 [==============================] - 0s 1ms/step - loss: 0.4113 - categorical_accuracy: 0.8589\n",
            "Epoch 60/200\n",
            "57/57 [==============================] - 0s 1ms/step - loss: 0.4001 - categorical_accuracy: 0.8644\n",
            "Epoch 61/200\n",
            "57/57 [==============================] - 0s 1ms/step - loss: 0.4128 - categorical_accuracy: 0.8600\n",
            "Epoch 62/200\n",
            "57/57 [==============================] - 0s 1ms/step - loss: 0.3633 - categorical_accuracy: 0.8783\n",
            "Epoch 63/200\n",
            "57/57 [==============================] - 0s 1ms/step - loss: 0.3645 - categorical_accuracy: 0.8739\n",
            "Epoch 64/200\n",
            "57/57 [==============================] - 0s 1ms/step - loss: 0.3946 - categorical_accuracy: 0.8689\n",
            "Epoch 65/200\n",
            "57/57 [==============================] - 0s 1ms/step - loss: 0.4150 - categorical_accuracy: 0.8572\n",
            "Epoch 66/200\n",
            "57/57 [==============================] - 0s 1ms/step - loss: 0.4142 - categorical_accuracy: 0.8650\n",
            "Epoch 67/200\n",
            "57/57 [==============================] - 0s 1ms/step - loss: 0.3927 - categorical_accuracy: 0.8650\n",
            "Epoch 68/200\n",
            "57/57 [==============================] - 0s 1ms/step - loss: 0.3914 - categorical_accuracy: 0.8672\n",
            "Epoch 69/200\n",
            "57/57 [==============================] - 0s 1ms/step - loss: 0.4218 - categorical_accuracy: 0.8522\n",
            "Epoch 70/200\n",
            "57/57 [==============================] - 0s 1ms/step - loss: 0.3613 - categorical_accuracy: 0.8733\n",
            "Epoch 71/200\n",
            "57/57 [==============================] - 0s 1ms/step - loss: 0.3806 - categorical_accuracy: 0.8750\n",
            "Epoch 72/200\n",
            "57/57 [==============================] - 0s 1ms/step - loss: 0.3952 - categorical_accuracy: 0.8639\n",
            "Epoch 73/200\n",
            "57/57 [==============================] - 0s 1ms/step - loss: 0.4389 - categorical_accuracy: 0.8539\n",
            "Epoch 74/200\n",
            "57/57 [==============================] - 0s 1ms/step - loss: 0.4190 - categorical_accuracy: 0.8578\n",
            "Epoch 75/200\n",
            "57/57 [==============================] - 0s 1ms/step - loss: 0.3933 - categorical_accuracy: 0.8650\n",
            "Epoch 76/200\n",
            "57/57 [==============================] - 0s 1ms/step - loss: 0.3987 - categorical_accuracy: 0.8722\n",
            "Epoch 77/200\n",
            "57/57 [==============================] - 0s 1ms/step - loss: 0.4133 - categorical_accuracy: 0.8639\n",
            "Epoch 78/200\n",
            "57/57 [==============================] - 0s 1ms/step - loss: 0.3934 - categorical_accuracy: 0.8628\n",
            "Epoch 79/200\n",
            "57/57 [==============================] - 0s 1ms/step - loss: 0.4002 - categorical_accuracy: 0.8678\n",
            "Epoch 80/200\n",
            "57/57 [==============================] - 0s 1ms/step - loss: 0.4187 - categorical_accuracy: 0.8561\n",
            "Epoch 81/200\n",
            "57/57 [==============================] - 0s 1ms/step - loss: 0.4005 - categorical_accuracy: 0.8672\n",
            "Epoch 82/200\n",
            "57/57 [==============================] - 0s 1ms/step - loss: 0.3745 - categorical_accuracy: 0.8811\n",
            "Epoch 83/200\n",
            "57/57 [==============================] - 0s 1ms/step - loss: 0.3963 - categorical_accuracy: 0.8661\n",
            "Epoch 84/200\n",
            "57/57 [==============================] - 0s 1ms/step - loss: 0.3667 - categorical_accuracy: 0.8839\n",
            "Epoch 85/200\n",
            "57/57 [==============================] - 0s 1ms/step - loss: 0.3875 - categorical_accuracy: 0.8689\n",
            "Epoch 86/200\n",
            "57/57 [==============================] - 0s 1ms/step - loss: 0.4047 - categorical_accuracy: 0.8600\n",
            "Epoch 87/200\n",
            "57/57 [==============================] - 0s 1ms/step - loss: 0.3576 - categorical_accuracy: 0.8806\n",
            "Epoch 88/200\n",
            "57/57 [==============================] - 0s 1ms/step - loss: 0.3971 - categorical_accuracy: 0.8700\n",
            "Epoch 89/200\n",
            "57/57 [==============================] - 0s 1ms/step - loss: 0.4019 - categorical_accuracy: 0.8600\n",
            "Epoch 90/200\n",
            "57/57 [==============================] - 0s 1ms/step - loss: 0.4067 - categorical_accuracy: 0.8683\n",
            "Epoch 91/200\n",
            "57/57 [==============================] - 0s 1ms/step - loss: 0.3978 - categorical_accuracy: 0.8667\n",
            "Epoch 92/200\n",
            "57/57 [==============================] - 0s 2ms/step - loss: 0.3723 - categorical_accuracy: 0.8694\n",
            "Epoch 93/200\n",
            "57/57 [==============================] - 0s 1ms/step - loss: 0.4171 - categorical_accuracy: 0.8533\n",
            "Epoch 94/200\n",
            "57/57 [==============================] - 0s 1ms/step - loss: 0.3789 - categorical_accuracy: 0.8706\n",
            "Epoch 95/200\n",
            "57/57 [==============================] - 0s 1ms/step - loss: 0.3754 - categorical_accuracy: 0.8744\n",
            "Epoch 96/200\n",
            "57/57 [==============================] - 0s 2ms/step - loss: 0.4022 - categorical_accuracy: 0.8639\n",
            "Epoch 97/200\n",
            "57/57 [==============================] - 0s 1ms/step - loss: 0.3674 - categorical_accuracy: 0.8833\n",
            "Epoch 98/200\n",
            "57/57 [==============================] - 0s 1ms/step - loss: 0.3964 - categorical_accuracy: 0.8672\n",
            "Epoch 99/200\n",
            "57/57 [==============================] - 0s 1ms/step - loss: 0.3765 - categorical_accuracy: 0.8706\n",
            "Epoch 100/200\n",
            "57/57 [==============================] - 0s 1ms/step - loss: 0.3732 - categorical_accuracy: 0.8683\n",
            "Epoch 101/200\n",
            "57/57 [==============================] - 0s 1ms/step - loss: 0.3848 - categorical_accuracy: 0.8728\n",
            "Epoch 102/200\n",
            "57/57 [==============================] - 0s 1ms/step - loss: 0.3846 - categorical_accuracy: 0.8683\n",
            "Epoch 103/200\n",
            "57/57 [==============================] - 0s 1ms/step - loss: 0.3860 - categorical_accuracy: 0.8639\n",
            "Epoch 104/200\n",
            "57/57 [==============================] - 0s 1ms/step - loss: 0.3942 - categorical_accuracy: 0.8717\n",
            "Epoch 105/200\n",
            "57/57 [==============================] - 0s 1ms/step - loss: 0.3782 - categorical_accuracy: 0.8722\n",
            "Epoch 106/200\n",
            "57/57 [==============================] - 0s 1ms/step - loss: 0.4126 - categorical_accuracy: 0.8617\n",
            "Epoch 107/200\n",
            "57/57 [==============================] - 0s 1ms/step - loss: 0.3831 - categorical_accuracy: 0.8678\n",
            "Epoch 108/200\n",
            "57/57 [==============================] - 0s 2ms/step - loss: 0.3872 - categorical_accuracy: 0.8794\n",
            "Epoch 109/200\n",
            "57/57 [==============================] - 0s 1ms/step - loss: 0.3922 - categorical_accuracy: 0.8644\n",
            "Epoch 110/200\n",
            "57/57 [==============================] - 0s 1ms/step - loss: 0.3645 - categorical_accuracy: 0.8794\n",
            "Epoch 111/200\n",
            "57/57 [==============================] - 0s 1ms/step - loss: 0.3574 - categorical_accuracy: 0.8778\n",
            "Epoch 112/200\n",
            "57/57 [==============================] - 0s 1ms/step - loss: 0.3650 - categorical_accuracy: 0.8817\n",
            "Epoch 113/200\n",
            "57/57 [==============================] - 0s 1ms/step - loss: 0.3811 - categorical_accuracy: 0.8750\n",
            "Epoch 114/200\n",
            "57/57 [==============================] - 0s 1ms/step - loss: 0.3760 - categorical_accuracy: 0.8733\n",
            "Epoch 115/200\n",
            "57/57 [==============================] - 0s 1ms/step - loss: 0.3613 - categorical_accuracy: 0.8828\n",
            "Epoch 116/200\n",
            "57/57 [==============================] - 0s 1ms/step - loss: 0.3961 - categorical_accuracy: 0.8622\n",
            "Epoch 117/200\n",
            "57/57 [==============================] - 0s 1ms/step - loss: 0.3903 - categorical_accuracy: 0.8617\n",
            "Epoch 118/200\n",
            "57/57 [==============================] - 0s 1ms/step - loss: 0.3811 - categorical_accuracy: 0.8706\n",
            "Epoch 119/200\n",
            "57/57 [==============================] - 0s 1ms/step - loss: 0.3707 - categorical_accuracy: 0.8733\n",
            "Epoch 120/200\n",
            "57/57 [==============================] - 0s 1ms/step - loss: 0.3452 - categorical_accuracy: 0.8878\n",
            "Epoch 121/200\n",
            "57/57 [==============================] - 0s 1ms/step - loss: 0.3689 - categorical_accuracy: 0.8761\n",
            "Epoch 122/200\n",
            "57/57 [==============================] - 0s 1ms/step - loss: 0.3936 - categorical_accuracy: 0.8733\n",
            "Epoch 123/200\n",
            "57/57 [==============================] - 0s 1ms/step - loss: 0.3738 - categorical_accuracy: 0.8833\n",
            "Epoch 124/200\n",
            "57/57 [==============================] - 0s 1ms/step - loss: 0.3752 - categorical_accuracy: 0.8650\n",
            "Epoch 125/200\n",
            "57/57 [==============================] - 0s 1ms/step - loss: 0.3696 - categorical_accuracy: 0.8817\n",
            "Epoch 126/200\n",
            "57/57 [==============================] - 0s 1ms/step - loss: 0.3497 - categorical_accuracy: 0.8839\n",
            "Epoch 127/200\n",
            "57/57 [==============================] - 0s 1ms/step - loss: 0.3963 - categorical_accuracy: 0.8672\n",
            "Epoch 128/200\n",
            "57/57 [==============================] - 0s 1ms/step - loss: 0.3998 - categorical_accuracy: 0.8572\n",
            "Epoch 129/200\n",
            "57/57 [==============================] - 0s 1ms/step - loss: 0.3586 - categorical_accuracy: 0.8750\n",
            "Epoch 130/200\n",
            "57/57 [==============================] - 0s 1ms/step - loss: 0.3495 - categorical_accuracy: 0.8839\n",
            "Epoch 131/200\n",
            "57/57 [==============================] - 0s 1ms/step - loss: 0.3718 - categorical_accuracy: 0.8739\n",
            "Epoch 132/200\n",
            "57/57 [==============================] - 0s 1ms/step - loss: 0.3871 - categorical_accuracy: 0.8694\n",
            "Epoch 133/200\n",
            "57/57 [==============================] - 0s 1ms/step - loss: 0.3641 - categorical_accuracy: 0.8767\n",
            "Epoch 134/200\n",
            "57/57 [==============================] - 0s 1ms/step - loss: 0.3439 - categorical_accuracy: 0.8856\n",
            "Epoch 135/200\n",
            "57/57 [==============================] - 0s 1ms/step - loss: 0.3385 - categorical_accuracy: 0.8856\n",
            "Epoch 136/200\n",
            "57/57 [==============================] - 0s 1ms/step - loss: 0.4055 - categorical_accuracy: 0.8594\n",
            "Epoch 137/200\n",
            "57/57 [==============================] - 0s 1ms/step - loss: 0.3693 - categorical_accuracy: 0.8733\n",
            "Epoch 138/200\n",
            "57/57 [==============================] - 0s 1ms/step - loss: 0.3741 - categorical_accuracy: 0.8722\n",
            "Epoch 139/200\n",
            "57/57 [==============================] - 0s 1ms/step - loss: 0.3727 - categorical_accuracy: 0.8778\n",
            "Epoch 140/200\n",
            "57/57 [==============================] - 0s 1ms/step - loss: 0.3972 - categorical_accuracy: 0.8628\n",
            "Epoch 141/200\n",
            "57/57 [==============================] - 0s 1ms/step - loss: 0.3594 - categorical_accuracy: 0.8794\n",
            "Epoch 142/200\n",
            "57/57 [==============================] - 0s 1ms/step - loss: 0.3531 - categorical_accuracy: 0.8739\n",
            "Epoch 143/200\n",
            "57/57 [==============================] - 0s 1ms/step - loss: 0.3641 - categorical_accuracy: 0.8722\n",
            "Epoch 144/200\n",
            "57/57 [==============================] - 0s 1ms/step - loss: 0.3666 - categorical_accuracy: 0.8756\n",
            "Epoch 145/200\n",
            "57/57 [==============================] - 0s 1ms/step - loss: 0.3509 - categorical_accuracy: 0.8867\n",
            "Epoch 146/200\n",
            "57/57 [==============================] - 0s 1ms/step - loss: 0.3597 - categorical_accuracy: 0.8789\n",
            "Epoch 147/200\n",
            "57/57 [==============================] - 0s 1ms/step - loss: 0.3749 - categorical_accuracy: 0.8717\n",
            "Epoch 148/200\n",
            "57/57 [==============================] - 0s 1ms/step - loss: 0.3488 - categorical_accuracy: 0.8817\n",
            "Epoch 149/200\n",
            "57/57 [==============================] - 0s 1ms/step - loss: 0.3689 - categorical_accuracy: 0.8706\n",
            "Epoch 150/200\n",
            "57/57 [==============================] - 0s 1ms/step - loss: 0.3755 - categorical_accuracy: 0.8733\n",
            "Epoch 151/200\n",
            "57/57 [==============================] - 0s 1ms/step - loss: 0.3738 - categorical_accuracy: 0.8700\n",
            "Epoch 152/200\n",
            "57/57 [==============================] - 0s 1ms/step - loss: 0.3876 - categorical_accuracy: 0.8644\n",
            "Epoch 153/200\n",
            "57/57 [==============================] - 0s 1ms/step - loss: 0.3373 - categorical_accuracy: 0.8906\n",
            "Epoch 154/200\n",
            "57/57 [==============================] - 0s 2ms/step - loss: 0.3630 - categorical_accuracy: 0.8761\n",
            "Epoch 155/200\n",
            "57/57 [==============================] - 0s 1ms/step - loss: 0.3457 - categorical_accuracy: 0.8894\n",
            "Epoch 156/200\n",
            "57/57 [==============================] - 0s 1ms/step - loss: 0.3930 - categorical_accuracy: 0.8750\n",
            "Epoch 157/200\n",
            "57/57 [==============================] - 0s 1ms/step - loss: 0.3840 - categorical_accuracy: 0.8694\n",
            "Epoch 158/200\n",
            "57/57 [==============================] - 0s 1ms/step - loss: 0.3509 - categorical_accuracy: 0.8811\n",
            "Epoch 159/200\n",
            "57/57 [==============================] - 0s 1ms/step - loss: 0.3613 - categorical_accuracy: 0.8789\n",
            "Epoch 160/200\n",
            "57/57 [==============================] - 0s 1ms/step - loss: 0.3719 - categorical_accuracy: 0.8583\n",
            "Epoch 161/200\n",
            "57/57 [==============================] - 0s 1ms/step - loss: 0.3468 - categorical_accuracy: 0.8800\n",
            "Epoch 162/200\n",
            "57/57 [==============================] - 0s 1ms/step - loss: 0.3707 - categorical_accuracy: 0.8733\n",
            "Epoch 163/200\n",
            "57/57 [==============================] - 0s 1ms/step - loss: 0.4092 - categorical_accuracy: 0.8639\n",
            "Epoch 164/200\n",
            "57/57 [==============================] - 0s 1ms/step - loss: 0.3422 - categorical_accuracy: 0.8844\n",
            "Epoch 165/200\n",
            "57/57 [==============================] - 0s 1ms/step - loss: 0.3332 - categorical_accuracy: 0.8856\n",
            "Epoch 166/200\n",
            "57/57 [==============================] - 0s 1ms/step - loss: 0.3401 - categorical_accuracy: 0.8889\n",
            "Epoch 167/200\n",
            "57/57 [==============================] - 0s 1ms/step - loss: 0.3678 - categorical_accuracy: 0.8772\n",
            "Epoch 168/200\n",
            "57/57 [==============================] - 0s 1ms/step - loss: 0.3779 - categorical_accuracy: 0.8750\n",
            "Epoch 169/200\n",
            "57/57 [==============================] - 0s 1ms/step - loss: 0.3852 - categorical_accuracy: 0.8628\n",
            "Epoch 170/200\n",
            "57/57 [==============================] - 0s 1ms/step - loss: 0.3580 - categorical_accuracy: 0.8789\n",
            "Epoch 171/200\n",
            "57/57 [==============================] - 0s 1ms/step - loss: 0.3394 - categorical_accuracy: 0.8867\n",
            "Epoch 172/200\n",
            "57/57 [==============================] - 0s 1ms/step - loss: 0.3191 - categorical_accuracy: 0.8933\n",
            "Epoch 173/200\n",
            "57/57 [==============================] - 0s 1ms/step - loss: 0.3484 - categorical_accuracy: 0.8789\n",
            "Epoch 174/200\n",
            "57/57 [==============================] - 0s 1ms/step - loss: 0.3407 - categorical_accuracy: 0.8844\n",
            "Epoch 175/200\n",
            "57/57 [==============================] - 0s 1ms/step - loss: 0.3516 - categorical_accuracy: 0.8883\n",
            "Epoch 176/200\n",
            "57/57 [==============================] - 0s 1ms/step - loss: 0.3931 - categorical_accuracy: 0.8650\n",
            "Epoch 177/200\n",
            "57/57 [==============================] - 0s 1ms/step - loss: 0.3418 - categorical_accuracy: 0.8844\n",
            "Epoch 178/200\n",
            "57/57 [==============================] - 0s 1ms/step - loss: 0.3476 - categorical_accuracy: 0.8867\n",
            "Epoch 179/200\n",
            "57/57 [==============================] - 0s 1ms/step - loss: 0.3634 - categorical_accuracy: 0.8733\n",
            "Epoch 180/200\n",
            "57/57 [==============================] - 0s 1ms/step - loss: 0.3440 - categorical_accuracy: 0.8828\n",
            "Epoch 181/200\n",
            "57/57 [==============================] - 0s 1ms/step - loss: 0.3561 - categorical_accuracy: 0.8811\n",
            "Epoch 182/200\n",
            "57/57 [==============================] - 0s 1ms/step - loss: 0.3450 - categorical_accuracy: 0.8850\n",
            "Epoch 183/200\n",
            "57/57 [==============================] - 0s 1ms/step - loss: 0.3307 - categorical_accuracy: 0.8883\n",
            "Epoch 184/200\n",
            "57/57 [==============================] - 0s 1ms/step - loss: 0.3592 - categorical_accuracy: 0.8767\n",
            "Epoch 185/200\n",
            "57/57 [==============================] - 0s 1ms/step - loss: 0.3458 - categorical_accuracy: 0.8828\n",
            "Epoch 186/200\n",
            "57/57 [==============================] - 0s 1ms/step - loss: 0.3826 - categorical_accuracy: 0.8656\n",
            "Epoch 187/200\n",
            "57/57 [==============================] - 0s 1ms/step - loss: 0.3706 - categorical_accuracy: 0.8694\n",
            "Epoch 188/200\n",
            "57/57 [==============================] - 0s 1ms/step - loss: 0.3622 - categorical_accuracy: 0.8778\n",
            "Epoch 189/200\n",
            "57/57 [==============================] - 0s 1ms/step - loss: 0.3609 - categorical_accuracy: 0.8756\n",
            "Epoch 190/200\n",
            "57/57 [==============================] - 0s 1ms/step - loss: 0.3617 - categorical_accuracy: 0.8828\n",
            "Epoch 191/200\n",
            "57/57 [==============================] - 0s 1ms/step - loss: 0.3590 - categorical_accuracy: 0.8772\n",
            "Epoch 192/200\n",
            "57/57 [==============================] - 0s 1ms/step - loss: 0.3477 - categorical_accuracy: 0.8839\n",
            "Epoch 193/200\n",
            "57/57 [==============================] - 0s 1ms/step - loss: 0.3627 - categorical_accuracy: 0.8800\n",
            "Epoch 194/200\n",
            "57/57 [==============================] - 0s 1ms/step - loss: 0.3688 - categorical_accuracy: 0.8711\n",
            "Epoch 195/200\n",
            "57/57 [==============================] - 0s 1ms/step - loss: 0.3507 - categorical_accuracy: 0.8783\n",
            "Epoch 196/200\n",
            "57/57 [==============================] - 0s 1ms/step - loss: 0.3579 - categorical_accuracy: 0.8772\n",
            "Epoch 197/200\n",
            "57/57 [==============================] - 0s 1ms/step - loss: 0.3665 - categorical_accuracy: 0.8778\n",
            "Epoch 198/200\n",
            "57/57 [==============================] - 0s 1ms/step - loss: 0.3023 - categorical_accuracy: 0.8989\n",
            "Epoch 199/200\n",
            "57/57 [==============================] - 0s 1ms/step - loss: 0.3760 - categorical_accuracy: 0.8700\n",
            "Epoch 200/200\n",
            "57/57 [==============================] - 0s 1ms/step - loss: 0.3414 - categorical_accuracy: 0.8811\n"
          ],
          "name": "stdout"
        },
        {
          "output_type": "execute_result",
          "data": {
            "text/plain": [
              "<tensorflow.python.keras.callbacks.History at 0x7f92788b1fd0>"
            ]
          },
          "metadata": {
            "tags": []
          },
          "execution_count": 438
        }
      ]
    },
    {
      "cell_type": "markdown",
      "metadata": {
        "id": "tJj5k2MxZga3",
        "colab_type": "text"
      },
      "source": [
        "## Part 4 - Making the predictions and evaluating the model"
      ]
    },
    {
      "cell_type": "markdown",
      "metadata": {
        "id": "o0oyfLWoaEGw",
        "colab_type": "text"
      },
      "source": [
        "### Making the Confusion Matrix"
      ]
    },
    {
      "cell_type": "code",
      "metadata": {
        "id": "ci6K_r6LaF6P",
        "colab_type": "code",
        "colab": {
          "base_uri": "https://localhost:8080/",
          "height": 33
        },
        "outputId": "3057c2a2-e08e-457b-85ea-7f3d88919ea8"
      },
      "source": [
        "from sklearn.metrics import confusion_matrix, accuracy_score\n",
        "from sklearn.metrics import multilabel_confusion_matrix\n",
        "y_pred = ann.predict(X_test)\n",
        "y_pred = (y_pred > 0.5)\n",
        "cm = multilabel_confusion_matrix(y_pred, y_test)\n",
        "accuracy_score(y_test, y_pred)"
      ],
      "execution_count": 439,
      "outputs": [
        {
          "output_type": "execute_result",
          "data": {
            "text/plain": [
              "0.91"
            ]
          },
          "metadata": {
            "tags": []
          },
          "execution_count": 439
        }
      ]
    }
  ]
}